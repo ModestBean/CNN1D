{
 "cells": [
  {
   "cell_type": "code",
   "execution_count": 1,
   "metadata": {
    "scrolled": true
   },
   "outputs": [
    {
     "name": "stderr",
     "output_type": "stream",
     "text": [
      "Using TensorFlow backend.\n"
     ]
    },
    {
     "name": "stdout",
     "output_type": "stream",
     "text": [
      "WARNING:tensorflow:From D:\\Anaconda\\lib\\site-packages\\tensorflow\\python\\framework\\op_def_library.py:263: colocate_with (from tensorflow.python.framework.ops) is deprecated and will be removed in a future version.\n",
      "Instructions for updating:\n",
      "Colocations handled automatically by placer.\n",
      "WARNING:tensorflow:From D:\\Anaconda\\lib\\site-packages\\keras\\backend\\tensorflow_backend.py:3445: calling dropout (from tensorflow.python.ops.nn_ops) with keep_prob is deprecated and will be removed in a future version.\n",
      "Instructions for updating:\n",
      "Please use `rate` instead of `keep_prob`. Rate should be set to `rate = 1 - keep_prob`.\n",
      "WARNING:tensorflow:From D:\\Anaconda\\lib\\site-packages\\tensorflow\\python\\ops\\math_ops.py:3066: to_int32 (from tensorflow.python.ops.math_ops) is deprecated and will be removed in a future version.\n",
      "Instructions for updating:\n",
      "Use tf.cast instead.\n",
      "Epoch 1/3\n",
      "16673/16673 [==============================] - 33s 2ms/step - loss: 0.0461 - acc: 0.9855\n",
      "Epoch 2/3\n",
      "16673/16673 [==============================] - 28s 2ms/step - loss: 0.0047 - acc: 0.9994\n",
      "Epoch 3/3\n",
      "16673/16673 [==============================] - 29s 2ms/step - loss: 0.0230 - acc: 0.9952\n"
     ]
    },
    {
     "data": {
      "text/plain": [
       "<keras.callbacks.History at 0x28c00086198>"
      ]
     },
     "execution_count": 1,
     "metadata": {},
     "output_type": "execute_result"
    }
   ],
   "source": [
    "import numpy as np\n",
    "import pandas as pd\n",
    "from sklearn.preprocessing import LabelEncoder\n",
    "from sklearn.preprocessing import StandardScaler\n",
    "from sklearn.model_selection import StratifiedShuffleSplit\n",
    "from keras.models import Sequential\n",
    "from keras.layers import Dense, Activation, Flatten, Convolution1D, Dropout\n",
    "from keras.optimizers import SGD\n",
    "from keras.utils import np_utils\n",
    "import scipy.io as sio\n",
    "import tensorflow as tf\n",
    "import os\n",
    "\n",
    "# 读取数据保存到mat\n",
    "# data = pd.read_csv('./trainnew.csv')\n",
    "# data = np.array(data)\n",
    "# label = pd.read_csv('./labelnew.csv')\n",
    "# label = np.array(label)\n",
    "\n",
    "# sio.savemat(\"datanew.mat\", {\"data\": data} )\n",
    "# sio.savemat(\"labelnew.mat\", {\"label\": label} )\n",
    "# print(data.shape)\n",
    "# print(label.shape)\n",
    "\n",
    "# 直接从保存的mat中读取数据\n",
    "train = sio.loadmat(\"datanew.mat\")['data']\n",
    "label = sio.loadmat(\"labelnew.mat\")['label']\n",
    "# print(train.shape)\n",
    "# print(label.shape)\n",
    "\n",
    "# 标准化训练集\n",
    "scaler = StandardScaler().fit(train)\n",
    "scaled_train = scaler.transform(train)\n",
    "\n",
    "# 交叉验证分类\n",
    "sss = StratifiedShuffleSplit(test_size=0.2, random_state=0)\n",
    "for train_index, test_index in sss.split(scaled_train, label):\n",
    "    # print(\"TRAIN:\", train_index, \"TEST:\", test_index)\n",
    "    X_train, X_test = scaled_train[train_index], scaled_train[test_index]\n",
    "    y_train, y_test = label[train_index], label[test_index]\n",
    "    \n",
    "# print(\"X_train.shape:\"+str(X_train.shape))\n",
    "# print(\"y_train.shape:\"+str(y_train.shape))\n",
    "# print(\"X_test.shape:\"+str(X_test.shape))\n",
    "# print(\"y_test.shape:\"+str(y_test.shape))\n",
    "\n",
    "nb_features = 651 # 每一个特征数量 (Ⅱ, Ⅲ, aVF)   \n",
    "nb_class = 2 # 最后结果\n",
    "\n",
    "#(20842,1953)\n",
    "\n",
    "#(20842,651,3)\n",
    "\n",
    "\n",
    "# 训练集维度变换\n",
    "X_train_r = np.zeros((len(X_train), nb_features, 3))\n",
    "X_train_r[:, :, 0] = X_train[:, :nb_features] #0~650\n",
    "X_train_r[:, :, 1] = X_train[:, nb_features:nb_features*2]# 651~1301\n",
    "X_train_r[:, :, 2] = X_train[:, nb_features*2:]#1302~end\n",
    "\n",
    "# 验证集维度变换\n",
    "X_test_r = np.zeros((len(X_test), nb_features, 3))\n",
    "X_test_r[:, :, 0] = X_test[:, :nb_features]\n",
    "X_test_r[:, :, 1] = X_test[:, nb_features:nb_features*2]\n",
    "X_test_r[:, :, 2] = X_test[:, nb_features*2:]\n",
    "\n",
    "# Keras model 一维卷积\n",
    "# 不好的是卷积层和滤波器层数较大\n",
    "# 不能给很好的正确率\n",
    "model = Sequential()\n",
    "model.add(Convolution1D(input_shape=(nb_features, 3), kernel_size=1, filters=256))\n",
    "model.add(Activation('relu'))\n",
    "model.add(Flatten())\n",
    "model.add(Dropout(0.4))\n",
    "model.add(Dense(128, activation='relu'))\n",
    "model.add(Dense(256, activation='relu'))\n",
    "model.add(Dense(nb_class))\n",
    "model.add(Activation('softmax'))\n",
    "\n",
    "y_train = np_utils.to_categorical(y_train, nb_class)\n",
    "y_test = np_utils.to_categorical(y_test, nb_class)\n",
    "\n",
    "model.compile(loss='categorical_crossentropy',optimizer = \"adam\",metrics=['accuracy'])\n",
    "\n",
    "nb_epoch = 3\n",
    "model.fit(X_train_r, y_train, epochs=nb_epoch, batch_size=50)"
   ]
  },
  {
   "cell_type": "code",
   "execution_count": 2,
   "metadata": {},
   "outputs": [
    {
     "name": "stdout",
     "output_type": "stream",
     "text": [
      "4169/4169 [==============================] - 1s 253us/step\n",
      "Loss = 0.00863345675159722\n",
      "Test Accuracy = 0.9992804029743344\n"
     ]
    }
   ],
   "source": [
    "preds = model.evaluate(x = X_test_r, y = y_test)\n",
    "print (\"Loss = \" + str(preds[0]))\n",
    "print (\"Test Accuracy = \" + str(preds[1]))"
   ]
  },
  {
   "cell_type": "code",
   "execution_count": null,
   "metadata": {},
   "outputs": [],
   "source": []
  }
 ],
 "metadata": {
  "kernelspec": {
   "display_name": "Python 3",
   "language": "python",
   "name": "python3"
  },
  "language_info": {
   "codemirror_mode": {
    "name": "ipython",
    "version": 3
   },
   "file_extension": ".py",
   "mimetype": "text/x-python",
   "name": "python",
   "nbconvert_exporter": "python",
   "pygments_lexer": "ipython3",
   "version": "3.7.0"
  }
 },
 "nbformat": 4,
 "nbformat_minor": 2
}
